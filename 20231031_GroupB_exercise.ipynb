{
  "nbformat": 4,
  "nbformat_minor": 0,
  "metadata": {
    "colab": {
      "provenance": []
    },
    "kernelspec": {
      "name": "python3",
      "display_name": "Python 3"
    },
    "language_info": {
      "name": "python"
    }
  },
  "cells": [
    {
      "cell_type": "code",
      "execution_count": null,
      "metadata": {
        "id": "NLEioNG8uAOX",
        "colab": {
          "base_uri": "https://localhost:8080/"
        },
        "outputId": "3fc6c564-6192-4124-9ad1-12ee7850baaf"
      },
      "outputs": [
        {
          "output_type": "stream",
          "name": "stdout",
          "text": [
            "請輸入一個數字: 1\n",
            "1 不是質數，小於且最靠近的質數是 None\n"
          ]
        }
      ],
      "source": [
        "def is_prime(num):\n",
        "  if num <= 1:\n",
        "    return False\n",
        "  if num == 2:\n",
        "    return True\n",
        "  if num % 2 == 0:\n",
        "    return False\n",
        "  for i in range(3, int(num**0.5) + 1, 2):\n",
        "      if num % i == 0:\n",
        "         return False\n",
        "  return True\n",
        "def find_nearest_prime(num):\n",
        "  lower_prime= num-1\n",
        "  while lower_prime>1:\n",
        "   if is_prime(lower_prime):\n",
        "    return lower_prime\n",
        "   lower_prime-=1\n",
        "  return None\n",
        "user_input = int(input(\"請輸入一個數字: \"))\n",
        "if is_prime(user_input): print(user_input, \"是質數\")\n",
        "else:\n",
        "  nearest_prime = find_nearest_prime(user_input)\n",
        "  print(user_input, \"不是質數，小於且最靠近的質數是\", nearest_prime)"
      ]
    },
    {
      "cell_type": "code",
      "source": [
        "a=input(\"請輸入一列數字(以逗號隔開):\")\n",
        "b=a.split(',')\n",
        "result=[]\n",
        "for i in range(len(b)):\n",
        "  count=0\n",
        "  for j in range(len(b)):\n",
        "    if b[i]>b[j]:\n",
        "      count+=1\n",
        "  result.append(count)\n",
        "print(result)"
      ],
      "metadata": {
        "id": "FovzYPfZutX3",
        "colab": {
          "base_uri": "https://localhost:8080/"
        },
        "outputId": "14850176-6f8f-4821-f459-945b1c00caf0"
      },
      "execution_count": 7,
      "outputs": [
        {
          "output_type": "stream",
          "name": "stdout",
          "text": [
            "請輸入一列數字(以逗號隔開):8,1,2,2,3\n",
            "[4, 0, 1, 1, 3]\n"
          ]
        }
      ]
    },
    {
      "cell_type": "code",
      "source": [
        "def how_many_step():\n",
        "  boxes=input(\"輸入：\")\n",
        "  n=len(boxes)\n",
        "  ans=[]\n",
        "  times=0\n",
        "  number=0\n",
        "  for i in range(n):\n",
        "    times=times+number\n",
        "    ans.append(times)\n",
        "    if boxes[i] == '1':\n",
        "      number=number+1\n",
        "  times=0\n",
        "  number = 0\n",
        "  for i in range(n-1,-1,-1):\n",
        "    times=times+number\n",
        "    ans[i]=ans[i]+times\n",
        "    if boxes[i] == '1':\n",
        "      number=number+1\n",
        "  print(ans)\n",
        "how_many_step()"
      ],
      "metadata": {
        "id": "WufTIdB3uti2",
        "colab": {
          "base_uri": "https://localhost:8080/"
        },
        "outputId": "68a38e87-ee51-442c-dad9-9399b4731c90"
      },
      "execution_count": 9,
      "outputs": [
        {
          "output_type": "stream",
          "name": "stdout",
          "text": [
            "輸入：001001\n",
            "[7, 5, 3, 3, 3, 3]\n"
          ]
        }
      ]
    }
  ]
}